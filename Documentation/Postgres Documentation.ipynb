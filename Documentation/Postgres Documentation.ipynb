{
 "cells": [
  {
   "cell_type": "markdown",
   "metadata": {},
   "source": [
    "# Postgres Documentation"
   ]
  },
  {
   "cell_type": "code",
   "execution_count": 189,
   "metadata": {
    "collapsed": true
   },
   "outputs": [
    {
     "name": "stdout",
     "output_type": "stream",
     "text": [
      "The sql extension is already loaded. To reload it, use:\n",
      "  %reload_ext sql\n"
     ]
    }
   ],
   "source": [
    "%load_ext sql"
   ]
  },
  {
   "cell_type": "code",
   "execution_count": 190,
   "metadata": {
    "collapsed": true
   },
   "outputs": [
    {
     "data": {
      "text/plain": [
       "'Connected: postgres@postgres'"
      ]
     },
     "execution_count": 190,
     "metadata": {},
     "output_type": "execute_result"
    }
   ],
   "source": [
    "%sql postgresql://postgres@psql:5432/postgres"
   ]
  },
  {
   "cell_type": "markdown",
   "metadata": {},
   "source": [
    "## Data structure and authors\n",
    "In our Dataset we have all authors set to 'Books' as a author string row, rather than having them in their own table that's referenced by 'Books' table with a integer id, this would have been proper normalization, and we would have corrected this weren't it for time constraints."
   ]
  },
  {
   "cell_type": "markdown",
   "metadata": {},
   "source": [
    "so looking through our data to find authors we have to use something akin to this query."
   ]
  },
  {
   "cell_type": "code",
   "execution_count": 411,
   "metadata": {},
   "outputs": [
    {
     "name": "stdout",
     "output_type": "stream",
     "text": [
      "21 rows affected.\n"
     ]
    },
    {
     "data": {
      "text/html": [
       "<table>\n",
       "    <tr>\n",
       "        <th>id</th>\n",
       "        <th>title</th>\n",
       "        <th>author</th>\n",
       "    </tr>\n",
       "    <tr>\n",
       "        <td>291</td>\n",
       "        <td>Shakespeare&#x27;s Sonnets</td>\n",
       "        <td>William Shakespeare</td>\n",
       "    </tr>\n",
       "    <tr>\n",
       "        <td>321</td>\n",
       "        <td>Venus and Adonis</td>\n",
       "        <td>William Shakespeare</td>\n",
       "    </tr>\n",
       "    <tr>\n",
       "        <td>887</td>\n",
       "        <td>King Richard III</td>\n",
       "        <td>William Shakespeare</td>\n",
       "    </tr>\n",
       "    <tr>\n",
       "        <td>972</td>\n",
       "        <td>Romeo and Juliet</td>\n",
       "        <td>William Shakespeare</td>\n",
       "    </tr>\n",
       "    <tr>\n",
       "        <td>1030</td>\n",
       "        <td>Much Ado About Nothing</td>\n",
       "        <td>William Shakespeare</td>\n",
       "    </tr>\n",
       "    <tr>\n",
       "        <td>1057</td>\n",
       "        <td>As You Like It</td>\n",
       "        <td>William Shakespeare</td>\n",
       "    </tr>\n",
       "    <tr>\n",
       "        <td>2297</td>\n",
       "        <td>The Merchant of Venice [liberally edited by Charles Kean]</td>\n",
       "        <td>William Shakespeare</td>\n",
       "    </tr>\n",
       "    <tr>\n",
       "        <td>2525</td>\n",
       "        <td>A Fairy Tale in Two Acts Taken from Shakespeare (1763)</td>\n",
       "        <td>William Shakespeare</td>\n",
       "    </tr>\n",
       "    <tr>\n",
       "        <td>4693</td>\n",
       "        <td>Othello· the Moor of Venice</td>\n",
       "        <td>William Shakespeare</td>\n",
       "    </tr>\n",
       "    <tr>\n",
       "        <td>4764</td>\n",
       "        <td>The Winter&#x27;s Tale</td>\n",
       "        <td>William Shakespeare</td>\n",
       "    </tr>\n",
       "    <tr>\n",
       "        <td>10993</td>\n",
       "        <td>King Henry the Fifth</td>\n",
       "        <td>William Shakespeare</td>\n",
       "    </tr>\n",
       "    <tr>\n",
       "        <td>11186</td>\n",
       "        <td>The Works of William Shakespeare [Cambridge Edition] [9 vols.]</td>\n",
       "        <td>William Shakespeare</td>\n",
       "    </tr>\n",
       "    <tr>\n",
       "        <td>11187</td>\n",
       "        <td>The Tempest</td>\n",
       "        <td>William Shakespeare</td>\n",
       "    </tr>\n",
       "    <tr>\n",
       "        <td>11188</td>\n",
       "        <td>Two Gentlemen of Verona</td>\n",
       "        <td>William Shakespeare</td>\n",
       "    </tr>\n",
       "    <tr>\n",
       "        <td>11189</td>\n",
       "        <td>The Merry Wives of Windsor</td>\n",
       "        <td>William Shakespeare</td>\n",
       "    </tr>\n",
       "    <tr>\n",
       "        <td>11190</td>\n",
       "        <td>Measure for Measure</td>\n",
       "        <td>William Shakespeare</td>\n",
       "    </tr>\n",
       "    <tr>\n",
       "        <td>11191</td>\n",
       "        <td>The Comedy of Errors</td>\n",
       "        <td>William Shakespeare</td>\n",
       "    </tr>\n",
       "    <tr>\n",
       "        <td>14916</td>\n",
       "        <td>Hamlet</td>\n",
       "        <td>William Shakespeare</td>\n",
       "    </tr>\n",
       "    <tr>\n",
       "        <td>15381</td>\n",
       "        <td>The New Hudson Shakespeare: Julius Caesar</td>\n",
       "        <td>William Shakespeare</td>\n",
       "    </tr>\n",
       "    <tr>\n",
       "        <td>31716</td>\n",
       "        <td>Shakespeare&#x27;s Comedy of The Tempest</td>\n",
       "        <td>William Shakespeare</td>\n",
       "    </tr>\n",
       "    <tr>\n",
       "        <td>31756</td>\n",
       "        <td>The Merry Devil</td>\n",
       "        <td>William Shakespeare</td>\n",
       "    </tr>\n",
       "</table>"
      ],
      "text/plain": [
       "[(291, \"Shakespeare's Sonnets\", 'William Shakespeare'),\n",
       " (321, 'Venus and Adonis', 'William Shakespeare'),\n",
       " (887, 'King Richard III', 'William Shakespeare'),\n",
       " (972, 'Romeo and Juliet', 'William Shakespeare'),\n",
       " (1030, 'Much Ado About Nothing', 'William Shakespeare'),\n",
       " (1057, 'As You Like It', 'William Shakespeare'),\n",
       " (2297, 'The Merchant of Venice [liberally edited by Charles Kean]', 'William Shakespeare'),\n",
       " (2525, 'A Fairy Tale in Two Acts Taken from Shakespeare (1763)', 'William Shakespeare'),\n",
       " (4693, 'Othello· the Moor of Venice', 'William Shakespeare'),\n",
       " (4764, \"The Winter's Tale\", 'William Shakespeare'),\n",
       " (10993, 'King Henry the Fifth', 'William Shakespeare'),\n",
       " (11186, 'The Works of William Shakespeare [Cambridge Edition] [9 vols.]', 'William Shakespeare'),\n",
       " (11187, 'The Tempest', 'William Shakespeare'),\n",
       " (11188, 'Two Gentlemen of Verona', 'William Shakespeare'),\n",
       " (11189, 'The Merry Wives of Windsor', 'William Shakespeare'),\n",
       " (11190, 'Measure for Measure', 'William Shakespeare'),\n",
       " (11191, 'The Comedy of Errors', 'William Shakespeare'),\n",
       " (14916, 'Hamlet', 'William Shakespeare'),\n",
       " (15381, 'The New Hudson Shakespeare: Julius Caesar', 'William Shakespeare'),\n",
       " (31716, \"Shakespeare's Comedy of The Tempest\", 'William Shakespeare'),\n",
       " (31756, 'The Merry Devil', 'William Shakespeare')]"
      ]
     },
     "execution_count": 411,
     "metadata": {},
     "output_type": "execute_result"
    }
   ],
   "source": [
    "%sql select * from books where author like 'William Shakespeare';"
   ]
  },
  {
   "cell_type": "code",
   "execution_count": 276,
   "metadata": {},
   "outputs": [
    {
     "name": "stdout",
     "output_type": "stream",
     "text": [
      "5 rows affected.\n"
     ]
    },
    {
     "data": {
      "text/html": [
       "<table>\n",
       "    <tr>\n",
       "        <th>QUERY PLAN</th>\n",
       "    </tr>\n",
       "    <tr>\n",
       "        <td>Seq Scan on books  (cost=0.00..845.26 rows=2 width=50) (actual time=0.024..2.155 rows=21 loops=1)</td>\n",
       "    </tr>\n",
       "    <tr>\n",
       "        <td>&nbsp;&nbsp;Filter: ((author)::text ~~ &#x27;William Shakespeare&#x27;::text)</td>\n",
       "    </tr>\n",
       "    <tr>\n",
       "        <td>&nbsp;&nbsp;Rows Removed by Filter: 37200</td>\n",
       "    </tr>\n",
       "    <tr>\n",
       "        <td>Planning time: 0.033 ms</td>\n",
       "    </tr>\n",
       "    <tr>\n",
       "        <td>Execution time: 2.165 ms</td>\n",
       "    </tr>\n",
       "</table>"
      ],
      "text/plain": [
       "[('Seq Scan on books  (cost=0.00..845.26 rows=2 width=50) (actual time=0.024..2.155 rows=21 loops=1)',),\n",
       " (\"  Filter: ((author)::text ~~ 'William Shakespeare'::text)\",),\n",
       " ('  Rows Removed by Filter: 37200',),\n",
       " ('Planning time: 0.033 ms',),\n",
       " ('Execution time: 2.165 ms',)]"
      ]
     },
     "execution_count": 276,
     "metadata": {},
     "output_type": "execute_result"
    }
   ],
   "source": [
    "%sql EXPLAIN ANALYZE select * from books where author like 'William Shakespeare';"
   ]
  },
  {
   "cell_type": "markdown",
   "metadata": {},
   "source": [
    "Problem is as we stated earlier, our Books.author contains multiple authors in some cases, so we have to use Regular expression to find all cases."
   ]
  },
  {
   "cell_type": "code",
   "execution_count": 257,
   "metadata": {},
   "outputs": [
    {
     "name": "stdout",
     "output_type": "stream",
     "text": [
      "25 rows affected.\n"
     ]
    },
    {
     "data": {
      "text/html": [
       "<table>\n",
       "    <tr>\n",
       "        <th>id</th>\n",
       "        <th>title</th>\n",
       "        <th>author</th>\n",
       "    </tr>\n",
       "    <tr>\n",
       "        <td>291</td>\n",
       "        <td>Shakespeare&#x27;s Sonnets</td>\n",
       "        <td>William Shakespeare</td>\n",
       "    </tr>\n",
       "    <tr>\n",
       "        <td>321</td>\n",
       "        <td>Venus and Adonis</td>\n",
       "        <td>William Shakespeare</td>\n",
       "    </tr>\n",
       "    <tr>\n",
       "        <td>887</td>\n",
       "        <td>King Richard III</td>\n",
       "        <td>William Shakespeare</td>\n",
       "    </tr>\n",
       "    <tr>\n",
       "        <td>972</td>\n",
       "        <td>Romeo and Juliet</td>\n",
       "        <td>William Shakespeare</td>\n",
       "    </tr>\n",
       "    <tr>\n",
       "        <td>1030</td>\n",
       "        <td>Much Ado About Nothing</td>\n",
       "        <td>William Shakespeare</td>\n",
       "    </tr>\n",
       "    <tr>\n",
       "        <td>1057</td>\n",
       "        <td>As You Like It</td>\n",
       "        <td>William Shakespeare</td>\n",
       "    </tr>\n",
       "    <tr>\n",
       "        <td>2297</td>\n",
       "        <td>The Merchant of Venice [liberally edited by Charles Kean]</td>\n",
       "        <td>William Shakespeare</td>\n",
       "    </tr>\n",
       "    <tr>\n",
       "        <td>2525</td>\n",
       "        <td>A Fairy Tale in Two Acts Taken from Shakespeare (1763)</td>\n",
       "        <td>William Shakespeare</td>\n",
       "    </tr>\n",
       "    <tr>\n",
       "        <td>4566</td>\n",
       "        <td>The Merry Wives of Windsor</td>\n",
       "        <td>William Shakespeare [Craig· Oxford edition]</td>\n",
       "    </tr>\n",
       "    <tr>\n",
       "        <td>4693</td>\n",
       "        <td>Othello· the Moor of Venice</td>\n",
       "        <td>William Shakespeare</td>\n",
       "    </tr>\n",
       "    <tr>\n",
       "        <td>4764</td>\n",
       "        <td>The Winter&#x27;s Tale</td>\n",
       "        <td>William Shakespeare</td>\n",
       "    </tr>\n",
       "    <tr>\n",
       "        <td>10993</td>\n",
       "        <td>King Henry the Fifth</td>\n",
       "        <td>William Shakespeare</td>\n",
       "    </tr>\n",
       "    <tr>\n",
       "        <td>11186</td>\n",
       "        <td>The Works of William Shakespeare [Cambridge Edition] [9 vols.]</td>\n",
       "        <td>William Shakespeare</td>\n",
       "    </tr>\n",
       "    <tr>\n",
       "        <td>11187</td>\n",
       "        <td>The Tempest</td>\n",
       "        <td>William Shakespeare</td>\n",
       "    </tr>\n",
       "    <tr>\n",
       "        <td>11188</td>\n",
       "        <td>Two Gentlemen of Verona</td>\n",
       "        <td>William Shakespeare</td>\n",
       "    </tr>\n",
       "    <tr>\n",
       "        <td>11189</td>\n",
       "        <td>The Merry Wives of Windsor</td>\n",
       "        <td>William Shakespeare</td>\n",
       "    </tr>\n",
       "    <tr>\n",
       "        <td>11190</td>\n",
       "        <td>Measure for Measure</td>\n",
       "        <td>William Shakespeare</td>\n",
       "    </tr>\n",
       "    <tr>\n",
       "        <td>11191</td>\n",
       "        <td>The Comedy of Errors</td>\n",
       "        <td>William Shakespeare</td>\n",
       "    </tr>\n",
       "    <tr>\n",
       "        <td>14916</td>\n",
       "        <td>Hamlet</td>\n",
       "        <td>William Shakespeare</td>\n",
       "    </tr>\n",
       "    <tr>\n",
       "        <td>15381</td>\n",
       "        <td>The New Hudson Shakespeare: Julius Caesar</td>\n",
       "        <td>William Shakespeare</td>\n",
       "    </tr>\n",
       "    <tr>\n",
       "        <td>25885</td>\n",
       "        <td>The London Prodigal</td>\n",
       "        <td>William Shakespeare [Apocrypha]</td>\n",
       "    </tr>\n",
       "    <tr>\n",
       "        <td>27868</td>\n",
       "        <td>A Yorkshire Tragedy</td>\n",
       "        <td>William Shakespeare (Apocrypha)</td>\n",
       "    </tr>\n",
       "    <tr>\n",
       "        <td>31716</td>\n",
       "        <td>Shakespeare&#x27;s Comedy of The Tempest</td>\n",
       "        <td>William Shakespeare</td>\n",
       "    </tr>\n",
       "    <tr>\n",
       "        <td>31756</td>\n",
       "        <td>The Merry Devil</td>\n",
       "        <td>William Shakespeare</td>\n",
       "    </tr>\n",
       "    <tr>\n",
       "        <td>32579</td>\n",
       "        <td>Fair Em</td>\n",
       "        <td>William Shakespeare (Apocrypha)</td>\n",
       "    </tr>\n",
       "</table>"
      ],
      "text/plain": [
       "[(291, \"Shakespeare's Sonnets\", 'William Shakespeare'),\n",
       " (321, 'Venus and Adonis', 'William Shakespeare'),\n",
       " (887, 'King Richard III', 'William Shakespeare'),\n",
       " (972, 'Romeo and Juliet', 'William Shakespeare'),\n",
       " (1030, 'Much Ado About Nothing', 'William Shakespeare'),\n",
       " (1057, 'As You Like It', 'William Shakespeare'),\n",
       " (2297, 'The Merchant of Venice [liberally edited by Charles Kean]', 'William Shakespeare'),\n",
       " (2525, 'A Fairy Tale in Two Acts Taken from Shakespeare (1763)', 'William Shakespeare'),\n",
       " (4566, 'The Merry Wives of Windsor', 'William Shakespeare [Craig· Oxford edition]'),\n",
       " (4693, 'Othello· the Moor of Venice', 'William Shakespeare'),\n",
       " (4764, \"The Winter's Tale\", 'William Shakespeare'),\n",
       " (10993, 'King Henry the Fifth', 'William Shakespeare'),\n",
       " (11186, 'The Works of William Shakespeare [Cambridge Edition] [9 vols.]', 'William Shakespeare'),\n",
       " (11187, 'The Tempest', 'William Shakespeare'),\n",
       " (11188, 'Two Gentlemen of Verona', 'William Shakespeare'),\n",
       " (11189, 'The Merry Wives of Windsor', 'William Shakespeare'),\n",
       " (11190, 'Measure for Measure', 'William Shakespeare'),\n",
       " (11191, 'The Comedy of Errors', 'William Shakespeare'),\n",
       " (14916, 'Hamlet', 'William Shakespeare'),\n",
       " (15381, 'The New Hudson Shakespeare: Julius Caesar', 'William Shakespeare'),\n",
       " (25885, 'The London Prodigal', 'William Shakespeare [Apocrypha]'),\n",
       " (27868, 'A Yorkshire Tragedy', 'William Shakespeare (Apocrypha)'),\n",
       " (31716, \"Shakespeare's Comedy of The Tempest\", 'William Shakespeare'),\n",
       " (31756, 'The Merry Devil', 'William Shakespeare'),\n",
       " (32579, 'Fair Em', 'William Shakespeare (Apocrypha)')]"
      ]
     },
     "execution_count": 257,
     "metadata": {},
     "output_type": "execute_result"
    }
   ],
   "source": [
    "%sql select * from books where author like '%William Shakespeare%';"
   ]
  },
  {
   "cell_type": "code",
   "execution_count": 292,
   "metadata": {
    "scrolled": true
   },
   "outputs": [
    {
     "name": "stdout",
     "output_type": "stream",
     "text": [
      "5 rows affected.\n"
     ]
    },
    {
     "data": {
      "text/html": [
       "<table>\n",
       "    <tr>\n",
       "        <th>QUERY PLAN</th>\n",
       "    </tr>\n",
       "    <tr>\n",
       "        <td>Seq Scan on books  (cost=0.00..845.26 rows=3 width=50) (actual time=0.030..3.041 rows=25 loops=1)</td>\n",
       "    </tr>\n",
       "    <tr>\n",
       "        <td>&nbsp;&nbsp;Filter: ((author)::text ~~ &#x27;%William Shakespeare%&#x27;::text)</td>\n",
       "    </tr>\n",
       "    <tr>\n",
       "        <td>&nbsp;&nbsp;Rows Removed by Filter: 37196</td>\n",
       "    </tr>\n",
       "    <tr>\n",
       "        <td>Planning time: 0.037 ms</td>\n",
       "    </tr>\n",
       "    <tr>\n",
       "        <td>Execution time: 3.052 ms</td>\n",
       "    </tr>\n",
       "</table>"
      ],
      "text/plain": [
       "[('Seq Scan on books  (cost=0.00..845.26 rows=3 width=50) (actual time=0.030..3.041 rows=25 loops=1)',),\n",
       " (\"  Filter: ((author)::text ~~ '%William Shakespeare%'::text)\",),\n",
       " ('  Rows Removed by Filter: 37196',),\n",
       " ('Planning time: 0.037 ms',),\n",
       " ('Execution time: 3.052 ms',)]"
      ]
     },
     "execution_count": 292,
     "metadata": {},
     "output_type": "execute_result"
    }
   ],
   "source": [
    "%sql EXPLAIN ANALYSE select * from books where author like '%William Shakespeare%';"
   ]
  },
  {
   "cell_type": "markdown",
   "metadata": {},
   "source": [
    "It's interesting to note that the more accurate query take 50% longer or 1 milisecond longer to complete, 1 milisecond isn't much but 50% is a more notable value in this instance, but we don't have any indexes on author, and we can't really apply any as we use wildcard syntax, which is problematic given a btree'slookup speed by big O notation is: ![](https://render.githubusercontent.com/render/math?math=O%28log%28n%29%29&mode=inline) "
   ]
  },
  {
   "cell_type": "markdown",
   "metadata": {},
   "source": [
    "as a example if we choose to use a btree."
   ]
  },
  {
   "cell_type": "code",
   "execution_count": 326,
   "metadata": {
    "collapsed": true
   },
   "outputs": [
    {
     "name": "stdout",
     "output_type": "stream",
     "text": [
      "Done.\n"
     ]
    },
    {
     "data": {
      "text/plain": [
       "[]"
      ]
     },
     "execution_count": 326,
     "metadata": {},
     "output_type": "execute_result"
    }
   ],
   "source": [
    "%sql CREATE INDEX book_author_index ON books USING btree(\"author\");"
   ]
  },
  {
   "cell_type": "code",
   "execution_count": 345,
   "metadata": {},
   "outputs": [
    {
     "name": "stdout",
     "output_type": "stream",
     "text": [
      "7 rows affected.\n"
     ]
    },
    {
     "data": {
      "text/html": [
       "<table>\n",
       "    <tr>\n",
       "        <th>QUERY PLAN</th>\n",
       "    </tr>\n",
       "    <tr>\n",
       "        <td>Bitmap Heap Scan on books  (cost=4.31..11.90 rows=2 width=50) (actual time=0.016..0.027 rows=21 loops=1)</td>\n",
       "    </tr>\n",
       "    <tr>\n",
       "        <td>&nbsp;&nbsp;Filter: ((author)::text ~~ &#x27;William Shakespeare&#x27;::text)</td>\n",
       "    </tr>\n",
       "    <tr>\n",
       "        <td>&nbsp;&nbsp;Heap Blocks: exact=13</td>\n",
       "    </tr>\n",
       "    <tr>\n",
       "        <td>&nbsp;&nbsp;-&gt;  Bitmap Index Scan on book_author_index  (cost=0.00..4.30 rows=2 width=0) (actual time=0.011..0.011 rows=21 loops=1)</td>\n",
       "    </tr>\n",
       "    <tr>\n",
       "        <td>&nbsp;&nbsp;&nbsp;&nbsp;&nbsp;&nbsp;&nbsp;&nbsp;Index Cond: ((author)::text = &#x27;William Shakespeare&#x27;::text)</td>\n",
       "    </tr>\n",
       "    <tr>\n",
       "        <td>Planning time: 0.048 ms</td>\n",
       "    </tr>\n",
       "    <tr>\n",
       "        <td>Execution time: 0.039 ms</td>\n",
       "    </tr>\n",
       "</table>"
      ],
      "text/plain": [
       "[('Bitmap Heap Scan on books  (cost=4.31..11.90 rows=2 width=50) (actual time=0.016..0.027 rows=21 loops=1)',),\n",
       " (\"  Filter: ((author)::text ~~ 'William Shakespeare'::text)\",),\n",
       " ('  Heap Blocks: exact=13',),\n",
       " ('  ->  Bitmap Index Scan on book_author_index  (cost=0.00..4.30 rows=2 width=0) (actual time=0.011..0.011 rows=21 loops=1)',),\n",
       " (\"        Index Cond: ((author)::text = 'William Shakespeare'::text)\",),\n",
       " ('Planning time: 0.048 ms',),\n",
       " ('Execution time: 0.039 ms',)]"
      ]
     },
     "execution_count": 345,
     "metadata": {},
     "output_type": "execute_result"
    }
   ],
   "source": [
    "%sql EXPLAIN ANALYZE select * from books where author like 'William Shakespeare';"
   ]
  },
  {
   "cell_type": "markdown",
   "metadata": {},
   "source": [
    "Planning suddenly takes longer than execution time, however the execution time is 55 times FASTER, that's 5500% higher speed, and the total speed is 25 times faster than the without indexing the author."
   ]
  },
  {
   "cell_type": "markdown",
   "metadata": {},
   "source": [
    "However since we use wildcard syntax..."
   ]
  },
  {
   "cell_type": "code",
   "execution_count": 328,
   "metadata": {},
   "outputs": [
    {
     "name": "stdout",
     "output_type": "stream",
     "text": [
      "5 rows affected.\n"
     ]
    },
    {
     "data": {
      "text/html": [
       "<table>\n",
       "    <tr>\n",
       "        <th>QUERY PLAN</th>\n",
       "    </tr>\n",
       "    <tr>\n",
       "        <td>Seq Scan on books  (cost=0.00..845.26 rows=3 width=50) (actual time=0.031..3.051 rows=25 loops=1)</td>\n",
       "    </tr>\n",
       "    <tr>\n",
       "        <td>&nbsp;&nbsp;Filter: ((author)::text ~~ &#x27;%William Shakespeare%&#x27;::text)</td>\n",
       "    </tr>\n",
       "    <tr>\n",
       "        <td>&nbsp;&nbsp;Rows Removed by Filter: 37196</td>\n",
       "    </tr>\n",
       "    <tr>\n",
       "        <td>Planning time: 0.042 ms</td>\n",
       "    </tr>\n",
       "    <tr>\n",
       "        <td>Execution time: 3.063 ms</td>\n",
       "    </tr>\n",
       "</table>"
      ],
      "text/plain": [
       "[('Seq Scan on books  (cost=0.00..845.26 rows=3 width=50) (actual time=0.031..3.051 rows=25 loops=1)',),\n",
       " (\"  Filter: ((author)::text ~~ '%William Shakespeare%'::text)\",),\n",
       " ('  Rows Removed by Filter: 37196',),\n",
       " ('Planning time: 0.042 ms',),\n",
       " ('Execution time: 3.063 ms',)]"
      ]
     },
     "execution_count": 328,
     "metadata": {},
     "output_type": "execute_result"
    }
   ],
   "source": [
    "%sql EXPLAIN ANALYSE select * from books where author like '%William Shakespeare%';"
   ]
  },
  {
   "cell_type": "markdown",
   "metadata": {},
   "source": [
    "then the actual accurate query doesn't gain any speed, and we end up wasting ram allocation on a index that's practically useless, it must be stressed again as we documented earlier in this report, this datastructure is the result of time constraint, and is in no way optimally normalized."
   ]
  },
  {
   "cell_type": "markdown",
   "metadata": {},
   "source": [
    "## Spartial data\n",
    "We could explain many other queries, but the best showcase of the data in action comes from the fouth query stating:   \n",
    "`Given a geolocation, your application lists all books mentioning a city in vicinity of the given geolocation.`   \n",
    "this has been a interesting one, as we need to get city data and reversely find all books that have mentioned that city in particular, the biggest problem have been using different earth cordinates solutions to find the related cities, and mirroring the queries with other databases to uniform the results."
   ]
  },
  {
   "cell_type": "markdown",
   "metadata": {},
   "source": [
    "### Geometric Functions and Operators\n",
    "doing our course we have been introduced to postgres own spartial data operators, that allow for easy spartial related queries, the issue we found however, relates to the values and and how earth's cordinates doesn't fit with a flat plain as earth is oblate spheroid in shape.   \n",
    "[Postgres documentation on geometric functions and operators](https://www.postgresql.org/docs/current/static/functions-geometry.html)"
   ]
  },
  {
   "cell_type": "markdown",
   "metadata": {},
   "source": [
    "### Haversine Formula\n",
    "another way to do spartial data queries was introduced to us in the form of the haversine formular, and we used this through the majority of our development circle, however we later learned from testing, that the solution we used calculated in miles instead of kilometers, and we choose to find another way to correctly query the data rather than tinker with the current solution.\n"
   ]
  },
  {
   "cell_type": "markdown",
   "metadata": {},
   "source": [
    "### Postgres Extentions\n",
    "doing our search for new solutions to correctly handle our spartial data queries we found the `earthdistance` module for postgres [here](https://www.postgresql.org/docs/8.3/static/earthdistance.html), it calculated in meters however it assumes the earth is perfectly spherical, which isn't correct and points towards [PostGIS](http://www.postgis.org/) as a solution for more accurate calculations, however we choose to go with earthdistance as we had already run through numerous calculation solutions, and were pressed for time."
   ]
  },
  {
   "cell_type": "code",
   "execution_count": 52,
   "metadata": {
    "collapsed": true
   },
   "outputs": [
    {
     "name": "stdout",
     "output_type": "stream",
     "text": [
      "Done.\n"
     ]
    },
    {
     "data": {
      "text/plain": [
       "[]"
      ]
     },
     "execution_count": 52,
     "metadata": {},
     "output_type": "execute_result"
    }
   ],
   "source": [
    "%sql create extension earthdistance cascade;"
   ]
  },
  {
   "cell_type": "markdown",
   "metadata": {},
   "source": [
    "### Indexes\n",
    "as spartial data is our main comparison tool, it seemed to be correct to use Rtrees as it primarily uses rectangles to store spartial data, since our solution contains even formed cordinates, it should be the best choice for this task, however as we where reading [postgres documentation on indexes](https://www.postgresql.org/docs/8.1/static/indexes-types.html) we learned this was not the case."
   ]
  },
  {
   "cell_type": "markdown",
   "metadata": {},
   "source": [
    "```\n",
    "Note: Testing has shown PostgreSQL's hash indexes to perform no better than B-tree indexes, and the index size and build time for hash indexes is much worse. Furthermore, hash index operations are not presently WAL-logged, so hash indexes may need to be rebuilt with REINDEX after a database crash. For these reasons, hash index use is presently discouraged.\n",
    "\n",
    "Similarly, R-tree indexes do not seem to have any performance advantages compared to the equivalent operations of GiST indexes. Like hash indexes, they are not WAL-logged and may need reindexing after a database crash.\n",
    "\n",
    "While the problems with hash indexes may be fixed eventually, it is likely that the R-tree index type will be retired in a future release. Users are encouraged to migrate applications that use R-tree indexes to GiST indexes.\n",
    "```"
   ]
  },
  {
   "cell_type": "markdown",
   "metadata": {},
   "source": [
    "so as adviced we use Generalised search tree index instead."
   ]
  },
  {
   "cell_type": "code",
   "execution_count": 434,
   "metadata": {
    "collapsed": true
   },
   "outputs": [
    {
     "name": "stdout",
     "output_type": "stream",
     "text": [
      "Done.\n"
     ]
    },
    {
     "data": {
      "text/plain": [
       "[]"
      ]
     },
     "execution_count": 434,
     "metadata": {},
     "output_type": "execute_result"
    }
   ],
   "source": [
    "%sql CREATE INDEX latitude_longitude_index ON cities USING gist (ll_to_earth(latitude, longitude));"
   ]
  },
  {
   "cell_type": "markdown",
   "metadata": {},
   "source": [
    "### Performance\n",
    "to save space the final results will be cut down and centered around this query\n",
    "```\n",
    "%%sql\n",
    "select cities.name, cities.latitude, cities.longitude, books.id, books.title from cities\n",
    "join mentions on (cities.id = mentions.cityid)\n",
    "join books on (mentions.bookid = books.id)\n",
    "where earth_box(ll_to_earth(52.38, 11.47), 50000) @> ll_to_earth(latitude, longitude)\n",
    "and earth_distance(ll_to_earth(52.38, 11.47), ll_to_earth(latitude, longitude)) < 50000;\n",
    "```\n",
    "to follow the logic we choose all cities and books using equi join on the Forign keys of Mentions, this cuts away any city that isn't mentioned by any book. Then filter using a rectangle box to cut down, so the radial filter have less to run though, the reason for this is the index have a faster use of rectangle, without the index and using only `earth_distance(ll_to_earth(52.38, 11.47), ll_to_earth(latitude, longitude)) < 50000` the result is this:   \n",
    "\n",
    "without ![](https://i.gyazo.com/0e55fbb6c3f484d97d9c80cc26fce255.png)\n",
    "with ![](https://i.gyazo.com/301e633bd19215a634b826cdd728b787.png)\n",
    "so clearly without the index our choice of including both doesn't work, however the rectangle filter works very well with the index which can clearly be seen in these results:\n",
    "\n",
    "without ![](https://i.gyazo.com/1ce99f6a47f4044a4e06650396467668.png)\n",
    "with ![](https://i.gyazo.com/ac0d2dd074c442bf59ea4df83e877cfd.png)"
   ]
  }
 ],
 "metadata": {
  "kernelspec": {
   "display_name": "Python 3",
   "language": "python",
   "name": "python3"
  },
  "language_info": {
   "codemirror_mode": {
    "name": "ipython",
    "version": 3
   },
   "file_extension": ".py",
   "mimetype": "text/x-python",
   "name": "python",
   "nbconvert_exporter": "python",
   "pygments_lexer": "ipython3",
   "version": "3.6.3"
  }
 },
 "nbformat": 4,
 "nbformat_minor": 2
}
